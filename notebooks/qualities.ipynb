{
 "cells": [
  {
   "cell_type": "code",
   "execution_count": null,
   "metadata": {},
   "outputs": [],
   "source": [
    "from pathlib import Path\n",
    "import sys\n",
    "sys.path.append(str(Path('..').resolve()))\n",
    "import json\n",
    "import pandas as pd\n",
    "import plotly.offline as pyo\n",
    "import plotly.graph_objects as go\n",
    "from IPython.display import Markdown, display\n",
    "\n",
    "from source.qualities_downloader import QualitiesDownloader\n",
    "from source.qualities_summary import FeedbackSummary\n",
    "from source.google_sheets_client import GoogleSheetsClient\n",
    "\n",
    "pyo.init_notebook_mode(connected=True)\n",
    "pd.options.plotting.backend = 'plotly'"
   ]
  },
  {
   "cell_type": "markdown",
   "metadata": {},
   "source": [
    "# Get The Data"
   ]
  },
  {
   "cell_type": "markdown",
   "metadata": {},
   "source": [
    "## Connect"
   ]
  },
  {
   "cell_type": "markdown",
   "metadata": {},
   "source": [
    "https://socraticowl.com/post/integrate-google-sheets-and-jupyter-notebooks/\n"
   ]
  },
  {
   "cell_type": "code",
   "execution_count": null,
   "metadata": {},
   "outputs": [],
   "source": [
    "config_path = \"../configs/qualities.json\"\n",
    "gs_config_path = \"../configs/qualities.json\"\n",
    "config = json.loads(Path(config_path).resolve().read_text(encoding=\"UTF-8\"))"
   ]
  },
  {
   "cell_type": "code",
   "execution_count": null,
   "metadata": {},
   "outputs": [],
   "source": [
    "gc = GoogleSheetsClient(gs_config_path).client"
   ]
  },
  {
   "cell_type": "markdown",
   "metadata": {},
   "source": [
    "## Download the Data"
   ]
  },
  {
   "cell_type": "code",
   "execution_count": null,
   "metadata": {},
   "outputs": [],
   "source": [
    "dataframes = QualitiesDownloader(config_path=config_path, gs_client=gc)"
   ]
  },
  {
   "cell_type": "markdown",
   "metadata": {},
   "source": [
    "# Summarise"
   ]
  },
  {
   "cell_type": "code",
   "execution_count": null,
   "metadata": {},
   "outputs": [],
   "source": [
    "my_hierarchies = [\"Quality\", \"Magyar\", \"Others Count\",  \"My Examples\",\"Name\", \"Their Examples\"]\n",
    "feedback_summary = FeedbackSummary(dataframes.self_dataframe, dataframes.others_dataframe, my_hierarchies)"
   ]
  },
  {
   "cell_type": "markdown",
   "metadata": {},
   "source": [
    "## Match"
   ]
  },
  {
   "cell_type": "markdown",
   "metadata": {},
   "source": [
    "What you have asessed about yorself, and reviewers have said about you too."
   ]
  },
  {
   "cell_type": "code",
   "execution_count": null,
   "metadata": {},
   "outputs": [],
   "source": [
    "match_df = feedback_summary.match_dataframe()\n",
    "# match_df = feedback_summary.remove_redundancies(match_df[match_df[\"Name\"] == \"somebody\"])[my_hierarchies]\n",
    "match_df = feedback_summary.remove_redundancies(match_df)[my_hierarchies]"
   ]
  },
  {
   "cell_type": "markdown",
   "metadata": {},
   "source": [
    "### Display Details"
   ]
  },
  {
   "cell_type": "code",
   "execution_count": null,
   "metadata": {},
   "outputs": [],
   "source": [
    "display(Markdown(match_df.to_markdown(index=False)))"
   ]
  },
  {
   "cell_type": "markdown",
   "metadata": {},
   "source": [
    "## Only Others"
   ]
  },
  {
   "cell_type": "markdown",
   "metadata": {},
   "source": [
    "You haven't chosen these to describe you, but other reviewers have"
   ]
  },
  {
   "cell_type": "code",
   "execution_count": null,
   "metadata": {},
   "outputs": [],
   "source": [
    "only_others_df = feedback_summary.only_others_dataframe()\n",
    "# only_others_df = feedback_summary.remove_redundancies(only_others_df[only_others_df[\"Name\"] == \"somebody\"])[my_hierarchies]\n",
    "only_others_df = feedback_summary.remove_redundancies(only_others_df)[my_hierarchies]"
   ]
  },
  {
   "cell_type": "markdown",
   "metadata": {},
   "source": [
    "### Display Details"
   ]
  },
  {
   "cell_type": "code",
   "execution_count": null,
   "metadata": {},
   "outputs": [],
   "source": [
    "display(Markdown(only_others_df.to_markdown(index=False)))"
   ]
  },
  {
   "cell_type": "markdown",
   "metadata": {},
   "source": [
    "## Only You"
   ]
  },
  {
   "cell_type": "markdown",
   "metadata": {},
   "source": [
    "These are adjectives you've chosen to be fitting, but other reviewers have omitted them."
   ]
  },
  {
   "cell_type": "code",
   "execution_count": null,
   "metadata": {},
   "outputs": [],
   "source": [
    "only_me_df = feedback_summary.remove_redundancies(feedback_summary.only_me_dataframe())[[\"Quality\", \"Magyar\", \"My Examples\"]]"
   ]
  },
  {
   "cell_type": "markdown",
   "metadata": {},
   "source": [
    "### Display Details"
   ]
  },
  {
   "cell_type": "code",
   "execution_count": null,
   "metadata": {},
   "outputs": [],
   "source": [
    "display(Markdown(only_me_df.to_markdown(index=False)))"
   ]
  },
  {
   "cell_type": "markdown",
   "metadata": {},
   "source": [
    "# Insights"
   ]
  },
  {
   "cell_type": "markdown",
   "metadata": {},
   "source": [
    "empty so far"
   ]
  }
 ],
 "metadata": {
  "kernelspec": {
   "display_name": "businessmodelme-qgy0RUE6",
   "language": "python",
   "name": "python3"
  },
  "language_info": {
   "codemirror_mode": {
    "name": "ipython",
    "version": 3
   },
   "file_extension": ".py",
   "mimetype": "text/x-python",
   "name": "python",
   "nbconvert_exporter": "python",
   "pygments_lexer": "ipython3",
   "version": "3.10.11"
  }
 },
 "nbformat": 4,
 "nbformat_minor": 2
}
